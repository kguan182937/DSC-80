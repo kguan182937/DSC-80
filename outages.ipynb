{
 "cells": [
  {
   "cell_type": "markdown",
   "metadata": {},
   "source": [
    "# Power Outages\n",
    "This project uses major power outage data in the continental U.S. from January 2000 to July 2016. Here, a major power  outage is defined as a power outage that impacted at least 50,000 customers or caused an unplanned firm load loss of atleast 300MW. Interesting questions to consider include:\n",
    "- Where and when do major power outages tend to occur?\n",
    "- What are the characteristics of major power outages with higher severity? Variables to consider include location, time, climate, land-use characteristics, electricity consumption patterns, economic characteristics, etc. What risk factors may an energy company want to look into when predicting the location and severity of its next major power outage?\n",
    "- What characteristics are associated with each category of cause?\n",
    "- How have characteristics of major power outages changed over time? Is there a clear trend?\n",
    "\n",
    "### Getting the Data\n",
    "The data is downloadable [here](https://engineering.purdue.edu/LASCI/research-data/outages/outagerisks).\n",
    "\n",
    "A data dictionary is available at this [article](https://www.sciencedirect.com/science/article/pii/S2352340918307182) under *Table 1. Variable descriptions*.\n",
    "\n",
    "### Cleaning and EDA\n",
    "- Note that the data is given as an Excel file rather than a CSV. Open the data in Excel or another spreadsheet application and determine which rows and columns of the Excel spreadsheet should be ignored when loading the data in pandas.\n",
    "- Clean the data.\n",
    "    - The power outage start date and time is given by `OUTAGE.START.DATE` and `OUTAGE.START.TIME`. It would be preferable if these two columns were combined into one datetime column. Combine `OUTAGE.START.DATE` and `OUTAGE.START.TIME` into a new datetime column called `OUTAGE.START`. Similarly, combine `OUTAGE.RESTORATION.DATE` and `OUTAGE.RESTORATION.TIME` into a new datetime column called `OUTAGE.RESTORATION`.\n",
    "- Understand the data in ways relevant to your question using univariate and bivariate analysis of the data as well as aggregations.\n",
    "\n",
    "*Hint 1: pandas can load multiple filetypes: `pd.read_csv`, `pd.read_excel`, `pd.read_html`, `pd.read_json`, etc.*\n",
    "\n",
    "*Hint 2: `pd.to_datetime` and `pd.to_timedelta` will be useful here.*\n",
    "\n",
    "*Tip: To visualize geospatial data, consider [Folium](https://python-visualization.github.io/folium/) or another geospatial plotting library.*\n",
    "\n",
    "### Assessment of Missingness\n",
    "- Assess the missingness of a column that is not missing by  design.\n",
    "\n",
    "### Hypothesis Test\n",
    "Find a hypothesis test to perform. You can use the questions at the top of the notebook for inspiration."
   ]
  },
  {
   "cell_type": "markdown",
   "metadata": {},
   "source": [
    "# Summary of Findings\n",
    "\n",
    "### Introduction\n",
    "TODO\n",
    "\n",
    "### Cleaning and EDA\n",
    "first combine date and time column <br>\n",
    "then filter out outage that affect more than 50,000 customers or caused an unplanned firm load loss of at least 300MW.<br>\n",
    "cast column of year and month to int since its not reasonable to have them as float value<br>\n",
    "Change the data type of column 'ANOMALY.LEVEL' to float<br>\n",
    "Conver the data tyoe of column 'OUTAGE.DURATION' to float<br>\n",
    "\n",
    "First, we combine column <code>OUTAGE.START.DATE</code>\n",
    "\n",
    "\n",
    "### Assessment of Missingness\n",
    "TODO\n",
    "\n",
    "### Hypothesis Test\n",
    "TODO"
   ]
  },
  {
   "cell_type": "markdown",
   "metadata": {},
   "source": [
    "# Code"
   ]
  },
  {
   "cell_type": "code",
   "execution_count": 1,
   "metadata": {
    "ExecuteTime": {
     "end_time": "2019-10-31T23:36:28.652554Z",
     "start_time": "2019-10-31T23:36:27.180520Z"
    }
   },
   "outputs": [],
   "source": [
    "import matplotlib.pyplot as plt\n",
    "import numpy as np\n",
    "import os\n",
    "import pandas as pd\n",
    "import seaborn as sns\n",
    "%matplotlib inline\n",
    "%config InlineBackend.figure_format = 'retina'  # Higher resolution figures"
   ]
  },
  {
   "cell_type": "markdown",
   "metadata": {},
   "source": [
    "### Cleaning and EDA"
   ]
  },
  {
   "cell_type": "code",
   "execution_count": 2,
   "metadata": {},
   "outputs": [
    {
     "data": {
      "text/html": [
       "<div>\n",
       "<style scoped>\n",
       "    .dataframe tbody tr th:only-of-type {\n",
       "        vertical-align: middle;\n",
       "    }\n",
       "\n",
       "    .dataframe tbody tr th {\n",
       "        vertical-align: top;\n",
       "    }\n",
       "\n",
       "    .dataframe thead th {\n",
       "        text-align: right;\n",
       "    }\n",
       "</style>\n",
       "<table border=\"1\" class=\"dataframe\">\n",
       "  <thead>\n",
       "    <tr style=\"text-align: right;\">\n",
       "      <th></th>\n",
       "      <th>YEAR</th>\n",
       "      <th>MONTH</th>\n",
       "      <th>U.S._STATE</th>\n",
       "      <th>POSTAL.CODE</th>\n",
       "      <th>NERC.REGION</th>\n",
       "      <th>CLIMATE.REGION</th>\n",
       "      <th>ANOMALY.LEVEL</th>\n",
       "      <th>CLIMATE.CATEGORY</th>\n",
       "      <th>CAUSE.CATEGORY</th>\n",
       "      <th>CAUSE.CATEGORY.DETAIL</th>\n",
       "      <th>...</th>\n",
       "      <th>POPDEN_URBAN</th>\n",
       "      <th>POPDEN_UC</th>\n",
       "      <th>POPDEN_RURAL</th>\n",
       "      <th>AREAPCT_URBAN</th>\n",
       "      <th>AREAPCT_UC</th>\n",
       "      <th>PCT_LAND</th>\n",
       "      <th>PCT_WATER_TOT</th>\n",
       "      <th>PCT_WATER_INLAND</th>\n",
       "      <th>OUTAGE.START</th>\n",
       "      <th>OUTAGE.RESTORATION</th>\n",
       "    </tr>\n",
       "  </thead>\n",
       "  <tbody>\n",
       "    <tr>\n",
       "      <th>1</th>\n",
       "      <td>2011.0</td>\n",
       "      <td>7.0</td>\n",
       "      <td>Minnesota</td>\n",
       "      <td>MN</td>\n",
       "      <td>MRO</td>\n",
       "      <td>East North Central</td>\n",
       "      <td>-0.3</td>\n",
       "      <td>normal</td>\n",
       "      <td>severe weather</td>\n",
       "      <td>NaN</td>\n",
       "      <td>...</td>\n",
       "      <td>2279.0</td>\n",
       "      <td>1700.5</td>\n",
       "      <td>18.2</td>\n",
       "      <td>2.14</td>\n",
       "      <td>0.6</td>\n",
       "      <td>91.592666</td>\n",
       "      <td>8.407334</td>\n",
       "      <td>5.478743</td>\n",
       "      <td>2011-07-01 17:00:00</td>\n",
       "      <td>2011-07-03 20:00:00</td>\n",
       "    </tr>\n",
       "    <tr>\n",
       "      <th>3</th>\n",
       "      <td>2010.0</td>\n",
       "      <td>10.0</td>\n",
       "      <td>Minnesota</td>\n",
       "      <td>MN</td>\n",
       "      <td>MRO</td>\n",
       "      <td>East North Central</td>\n",
       "      <td>-1.5</td>\n",
       "      <td>cold</td>\n",
       "      <td>severe weather</td>\n",
       "      <td>heavy wind</td>\n",
       "      <td>...</td>\n",
       "      <td>2279.0</td>\n",
       "      <td>1700.5</td>\n",
       "      <td>18.2</td>\n",
       "      <td>2.14</td>\n",
       "      <td>0.6</td>\n",
       "      <td>91.592666</td>\n",
       "      <td>8.407334</td>\n",
       "      <td>5.478743</td>\n",
       "      <td>2010-10-26 20:00:00</td>\n",
       "      <td>2010-10-28 22:00:00</td>\n",
       "    </tr>\n",
       "    <tr>\n",
       "      <th>4</th>\n",
       "      <td>2012.0</td>\n",
       "      <td>6.0</td>\n",
       "      <td>Minnesota</td>\n",
       "      <td>MN</td>\n",
       "      <td>MRO</td>\n",
       "      <td>East North Central</td>\n",
       "      <td>-0.1</td>\n",
       "      <td>normal</td>\n",
       "      <td>severe weather</td>\n",
       "      <td>thunderstorm</td>\n",
       "      <td>...</td>\n",
       "      <td>2279.0</td>\n",
       "      <td>1700.5</td>\n",
       "      <td>18.2</td>\n",
       "      <td>2.14</td>\n",
       "      <td>0.6</td>\n",
       "      <td>91.592666</td>\n",
       "      <td>8.407334</td>\n",
       "      <td>5.478743</td>\n",
       "      <td>2012-06-19 04:30:00</td>\n",
       "      <td>2012-06-20 23:00:00</td>\n",
       "    </tr>\n",
       "    <tr>\n",
       "      <th>5</th>\n",
       "      <td>2015.0</td>\n",
       "      <td>7.0</td>\n",
       "      <td>Minnesota</td>\n",
       "      <td>MN</td>\n",
       "      <td>MRO</td>\n",
       "      <td>East North Central</td>\n",
       "      <td>1.2</td>\n",
       "      <td>warm</td>\n",
       "      <td>severe weather</td>\n",
       "      <td>NaN</td>\n",
       "      <td>...</td>\n",
       "      <td>2279.0</td>\n",
       "      <td>1700.5</td>\n",
       "      <td>18.2</td>\n",
       "      <td>2.14</td>\n",
       "      <td>0.6</td>\n",
       "      <td>91.592666</td>\n",
       "      <td>8.407334</td>\n",
       "      <td>5.478743</td>\n",
       "      <td>2015-07-18 02:00:00</td>\n",
       "      <td>2015-07-19 07:00:00</td>\n",
       "    </tr>\n",
       "    <tr>\n",
       "      <th>6</th>\n",
       "      <td>2010.0</td>\n",
       "      <td>11.0</td>\n",
       "      <td>Minnesota</td>\n",
       "      <td>MN</td>\n",
       "      <td>MRO</td>\n",
       "      <td>East North Central</td>\n",
       "      <td>-1.4</td>\n",
       "      <td>cold</td>\n",
       "      <td>severe weather</td>\n",
       "      <td>winter storm</td>\n",
       "      <td>...</td>\n",
       "      <td>2279.0</td>\n",
       "      <td>1700.5</td>\n",
       "      <td>18.2</td>\n",
       "      <td>2.14</td>\n",
       "      <td>0.6</td>\n",
       "      <td>91.592666</td>\n",
       "      <td>8.407334</td>\n",
       "      <td>5.478743</td>\n",
       "      <td>2010-11-13 15:00:00</td>\n",
       "      <td>2010-11-14 22:00:00</td>\n",
       "    </tr>\n",
       "  </tbody>\n",
       "</table>\n",
       "<p>5 rows × 53 columns</p>\n",
       "</div>"
      ],
      "text/plain": [
       "     YEAR  MONTH U.S._STATE POSTAL.CODE NERC.REGION      CLIMATE.REGION  \\\n",
       "1  2011.0    7.0  Minnesota          MN         MRO  East North Central   \n",
       "3  2010.0   10.0  Minnesota          MN         MRO  East North Central   \n",
       "4  2012.0    6.0  Minnesota          MN         MRO  East North Central   \n",
       "5  2015.0    7.0  Minnesota          MN         MRO  East North Central   \n",
       "6  2010.0   11.0  Minnesota          MN         MRO  East North Central   \n",
       "\n",
       "   ANOMALY.LEVEL CLIMATE.CATEGORY  CAUSE.CATEGORY CAUSE.CATEGORY.DETAIL  ...  \\\n",
       "1           -0.3           normal  severe weather                   NaN  ...   \n",
       "3           -1.5             cold  severe weather            heavy wind  ...   \n",
       "4           -0.1           normal  severe weather          thunderstorm  ...   \n",
       "5            1.2             warm  severe weather                   NaN  ...   \n",
       "6           -1.4             cold  severe weather          winter storm  ...   \n",
       "\n",
       "  POPDEN_URBAN  POPDEN_UC POPDEN_RURAL  AREAPCT_URBAN AREAPCT_UC   PCT_LAND  \\\n",
       "1       2279.0     1700.5         18.2           2.14        0.6  91.592666   \n",
       "3       2279.0     1700.5         18.2           2.14        0.6  91.592666   \n",
       "4       2279.0     1700.5         18.2           2.14        0.6  91.592666   \n",
       "5       2279.0     1700.5         18.2           2.14        0.6  91.592666   \n",
       "6       2279.0     1700.5         18.2           2.14        0.6  91.592666   \n",
       "\n",
       "  PCT_WATER_TOT  PCT_WATER_INLAND        OUTAGE.START  OUTAGE.RESTORATION  \n",
       "1      8.407334          5.478743 2011-07-01 17:00:00 2011-07-03 20:00:00  \n",
       "3      8.407334          5.478743 2010-10-26 20:00:00 2010-10-28 22:00:00  \n",
       "4      8.407334          5.478743 2012-06-19 04:30:00 2012-06-20 23:00:00  \n",
       "5      8.407334          5.478743 2015-07-18 02:00:00 2015-07-19 07:00:00  \n",
       "6      8.407334          5.478743 2010-11-13 15:00:00 2010-11-14 22:00:00  \n",
       "\n",
       "[5 rows x 53 columns]"
      ]
     },
     "execution_count": 2,
     "metadata": {},
     "output_type": "execute_result"
    }
   ],
   "source": [
    "df = pd.read_excel('outage.xlsx', header = 5).iloc[1:,2:]\n",
    "df['OUTAGE.START'] = pd.to_datetime(df['OUTAGE.START.DATE']) + pd.to_timedelta(df['OUTAGE.START.TIME'].astype(str))\n",
    "df['OUTAGE.RESTORATION'] = pd.to_datetime(df['OUTAGE.RESTORATION.DATE']) + pd.to_timedelta(df['OUTAGE.RESTORATION.TIME'].astype(str))\n",
    "df.drop(columns = ['OUTAGE.START.DATE', 'OUTAGE.START.TIME', \n",
    "                   'OUTAGE.RESTORATION.DATE', 'OUTAGE.RESTORATION.TIME'], inplace = True)\n",
    "df = df[(df['CUSTOMERS.AFFECTED'] >= 50000) | (df['DEMAND.LOSS.MW'] >= 300)] #only concerned with major outages\n",
    "df['ANOMALY.LEVEL'] = df['ANOMALY.LEVEL'].astype('float')\n",
    "df['OUTAGE.DURATION'] = df['OUTAGE.DURATION'].astype('float')\n",
    "df['TOTAL.PRICE'] = df['TOTAL.PRICE'].astype('float')\n",
    "df['TOTAL.SALES'] = df['TOTAL.SALES'].astype('float')\n",
    "df['TOTAL.CUSTOMERS'] = df['TOTAL.CUSTOMERS'].astype('float')\n",
    "df['POPDEN_URBAN'] = df['POPDEN_URBAN'].astype('float')\n",
    "\n",
    "\n",
    "df.head()"
   ]
  },
  {
   "cell_type": "code",
   "execution_count": null,
   "metadata": {},
   "outputs": [],
   "source": []
  },
  {
   "cell_type": "code",
   "execution_count": null,
   "metadata": {},
   "outputs": [],
   "source": []
  },
  {
   "cell_type": "code",
   "execution_count": null,
   "metadata": {},
   "outputs": [],
   "source": []
  },
  {
   "cell_type": "code",
   "execution_count": null,
   "metadata": {},
   "outputs": [],
   "source": []
  },
  {
   "cell_type": "code",
   "execution_count": null,
   "metadata": {},
   "outputs": [],
   "source": []
  },
  {
   "cell_type": "code",
   "execution_count": null,
   "metadata": {},
   "outputs": [],
   "source": []
  },
  {
   "cell_type": "code",
   "execution_count": null,
   "metadata": {},
   "outputs": [],
   "source": []
  },
  {
   "cell_type": "markdown",
   "metadata": {},
   "source": []
  },
  {
   "cell_type": "code",
   "execution_count": null,
   "metadata": {
    "ExecuteTime": {
     "end_time": "2019-10-31T23:36:28.657068Z",
     "start_time": "2019-10-31T23:36:28.654650Z"
    }
   },
   "outputs": [],
   "source": []
  },
  {
   "cell_type": "code",
   "execution_count": null,
   "metadata": {},
   "outputs": [],
   "source": []
  },
  {
   "cell_type": "code",
   "execution_count": null,
   "metadata": {},
   "outputs": [],
   "source": []
  },
  {
   "cell_type": "code",
   "execution_count": null,
   "metadata": {},
   "outputs": [],
   "source": []
  },
  {
   "cell_type": "code",
   "execution_count": null,
   "metadata": {},
   "outputs": [],
   "source": []
  },
  {
   "cell_type": "code",
   "execution_count": null,
   "metadata": {},
   "outputs": [],
   "source": []
  },
  {
   "cell_type": "code",
   "execution_count": null,
   "metadata": {},
   "outputs": [],
   "source": []
  },
  {
   "cell_type": "markdown",
   "metadata": {},
   "source": [
    "### Assessment of Missingness"
   ]
  },
  {
   "cell_type": "code",
   "execution_count": 3,
   "metadata": {
    "ExecuteTime": {
     "end_time": "2019-10-31T23:36:28.662099Z",
     "start_time": "2019-10-31T23:36:28.660016Z"
    }
   },
   "outputs": [
    {
     "data": {
      "text/plain": [
       "HURRICANE.NAMES          749\n",
       "DEMAND.LOSS.MW           340\n",
       "CAUSE.CATEGORY.DETAIL    243\n",
       "CUSTOMERS.AFFECTED        69\n",
       "OUTAGE.RESTORATION        19\n",
       "OUTAGE.DURATION           19\n",
       "RES.SALES                 10\n",
       "dtype: int64"
      ]
     },
     "execution_count": 3,
     "metadata": {},
     "output_type": "execute_result"
    }
   ],
   "source": [
    "# get all the column with missing values\n",
    "missing = df[df.columns[df.isnull().any()]].isnull().sum().sort_values(ascending=False)[:7]\n",
    "missing"
   ]
  },
  {
   "cell_type": "markdown",
   "metadata": {},
   "source": [
    "&emsp;Among all the columns with missing value, columns of <b>CAUSE.CATEGORY.DETAIL</b>, <b>HURRICANE.NAMES</b>, and <b>DEMAND.LOSS.MW</b> has a non-trival amount of missingness. <br>\n",
    "\n",
    "We then decided to anaylze the type of the missingness of column <b>CAUSE.CATEGORY.DETAIL</b>.<br>\n",
    "\n",
    "Since the column \"CAUSE.CATEGORY.DETAIL\" expand on the column \"CAUSE.CATEGORY\", we first analyze if the missingness in the column that we are interested in depend on the \"CAUSE.CATEGORY\" column. "
   ]
  },
  {
   "cell_type": "code",
   "execution_count": 25,
   "metadata": {},
   "outputs": [
    {
     "data": {
      "text/plain": [
       "CAUSE.CATEGORY\n",
       "equipment failure                0.192308\n",
       "fuel supply emergency            0.312500\n",
       "intentional attack               0.200000\n",
       "islanding                        1.000000\n",
       "public appeal                    1.000000\n",
       "severe weather                   0.245255\n",
       "system operability disruption    0.723684\n",
       "Name: cause_detail_missing, dtype: float64"
      ]
     },
     "execution_count": 25,
     "metadata": {},
     "output_type": "execute_result"
    },
    {
     "data": {
      "image/png": "[encoded data removed]",
      "text/plain": [
       "<Figure size 432x288 with 1 Axes>"
      ]
     },
     "metadata": {
      "image/png": {
       "height": 248,
       "width": 516
      },
      "needs_background": "light"
     },
     "output_type": "display_data"
    }
   ],
   "source": [
    "# plot out the distribution\n",
    "assert_missingness = df.copy()\n",
    "assert_missingness['cause_detail_missing'] = assert_missingness['CAUSE.CATEGORY.DETAIL'].isna()\n",
    "emp_distributions = (\n",
    "    assert_missingness\n",
    "    .pivot_table(index='CAUSE.CATEGORY', columns='cause_detail_missing', values=None, aggfunc='size')\n",
    "    .fillna(0)\n",
    "    #.apply(lambda x: x / x.sum())\n",
    ")\n",
    "emp_distributions.plot(kind='barh')\n",
    "emp_distributions\n",
    "assert_missingness.groupby(['CAUSE.CATEGORY'])['cause_detail_missing'].mean()"
   ]
  },
  {
   "cell_type": "code",
   "execution_count": null,
   "metadata": {},
   "outputs": [],
   "source": []
  },
  {
   "cell_type": "markdown",
   "metadata": {},
   "source": [
    "As shown in the bar chart above, there is a significant difference between the amount of data that is missing or not in our target column when the cause category of an outage is \"system operability disruption\". The difference "
   ]
  },
  {
   "cell_type": "markdown",
   "metadata": {},
   "source": [
    "In order to test whether the missingness in the column <b>\"CAUSE.CATEGORY.DETAIL\"</b> depends on column <b>\"CAUSE.CATEGORY\"</b>, we decide to perform a permutation test on these two cloumns.<br>"
   ]
  },
  {
   "cell_type": "markdown",
   "metadata": {},
   "source": [
    "<b>Null Hypothese ($H_0$)</b>: the missingness in column \"CAUSE.CATEGORY.DETAIL\" does NOT depend on column \"CAUSE.CATEGORY\"<br>\n",
    "<b>Alternative Hypothese ($H_1$)</b>: the missingness in column \"CAUSE.CATEGORY.DETAIL\" depend on column \"CAUSE.CATEGORY\""
   ]
  },
  {
   "cell_type": "code",
   "execution_count": 5,
   "metadata": {},
   "outputs": [
    {
     "data": {
      "text/plain": [
       "0.22820148836409002"
      ]
     },
     "execution_count": 5,
     "metadata": {},
     "output_type": "execute_result"
    }
   ],
   "source": [
    "# calculate the observed tvd\n",
    "observed_tvd = emp_distributions.diff(axis=1).iloc[:, -1].abs().sum() / 2\n",
    "observed_tvd"
   ]
  },
  {
   "cell_type": "code",
   "execution_count": 6,
   "metadata": {},
   "outputs": [],
   "source": [
    "# perform a permutation test\n",
    "shuffled = assert_missingness.copy()[['CAUSE.CATEGORY', 'cause_detail_missing']]\n",
    "\n",
    "n_repetitions = 5000\n",
    "tvds = []\n",
    "\n",
    "for _ in range(n_repetitions):\n",
    "    \n",
    "    # Shuffling the column and assigning it to the DataFrame\n",
    "    shuffled['CAUSE.CATEGORY'] = np.random.permutation(shuffled['CAUSE.CATEGORY'])\n",
    "    \n",
    "    # Computing and storing the TVD\n",
    "    pivoted = (\n",
    "        shuffled\n",
    "        .pivot_table(index='CAUSE.CATEGORY', columns='cause_detail_missing', values=None, aggfunc='size')\n",
    "        .fillna(0)\n",
    "        .apply(lambda x: x / x.sum())\n",
    "    )\n",
    "    \n",
    "    tvd = pivoted.diff(axis=1).iloc[:, -1].abs().sum() / 2\n",
    "    tvds.append(tvd)"
   ]
  },
  {
   "cell_type": "code",
   "execution_count": 7,
   "metadata": {},
   "outputs": [
    {
     "data": {
      "image/png": "[encoded data removed]",
      "text/plain": [
       "<Figure size 432x288 with 1 Axes>"
      ]
     },
     "metadata": {
      "image/png": {
       "height": 263,
       "width": 382
      },
      "needs_background": "light"
     },
     "output_type": "display_data"
    }
   ],
   "source": [
    "# calculate the p-val of the permutation test and plot out the result\n",
    "pval = np.mean(tvds >= observed_tvd)\n",
    "\n",
    "pd.Series(tvds).plot(kind='hist', density=True, ec='w', bins=10, title=f'p-value: {pval}', label='Simulated TVDs')\n",
    "plt.axvline(x=observed_tvd, color='red', linewidth=4, label='Observed TVD')\n",
    "plt.legend();"
   ]
  },
  {
   "cell_type": "markdown",
   "metadata": {},
   "source": [
    "p-value of 0.0 indicates that we reject our null hypothesis and claim that the missingness in column \"CAUSE.CATEGORY.DETAIL\" depend on column \"CAUSE.CATEGORY\". This result is also illustrate in the histogram above as the tvds of our simulated data all lies on the left side of our observed tvd, which is indicated as the red line. "
   ]
  },
  {
   "cell_type": "markdown",
   "metadata": {},
   "source": [
    "Then, in order to find out whether the missingness of \"CAUSE.CATEGORY.DETAIL\" depends on other columns, we decide to perform permutation test on other columns to find what other columns contribute to the missingness of our target column. We decide to focuse on columns of <code>'ANOMALY.LEVEL', 'TOTAL.PRICE', and 'TOTAL.SALES'</code> since the data for these columns are the different for different outages. \n",
    "\n",
    "We then notice that differnet from the <code>CAUSE.CATEGORY</code> column, these new columns that we are considering has numeric data such that it is unreasonable to use tvd as test statisitc. We then decided to use the absolute mean difference as the test statistic and perform permutation test on these columns. "
   ]
  },
  {
   "cell_type": "code",
   "execution_count": 41,
   "metadata": {},
   "outputs": [
    {
     "data": {
      "text/plain": [
       "['ANOMALY.LEVEL', 'TOTAL.PRICE', 'TOTAL.SALES']"
      ]
     },
     "execution_count": 41,
     "metadata": {},
     "output_type": "execute_result"
    }
   ],
   "source": [
    "# get other columns that we'd like to test on\n",
    "other_columns = ['ANOMALY.LEVEL', 'TOTAL.PRICE', 'TOTAL.SALES']\n",
    "other_columns"
   ]
  },
  {
   "cell_type": "code",
   "execution_count": 42,
   "metadata": {},
   "outputs": [],
   "source": [
    "# define a function called permutation_miss which takes in the column to permutate on and a dataframe.\n",
    "# Returns a list to different in means\n",
    "def permutation_miss(column, df):\n",
    "    shuffled = df.copy()[[column, 'cause_detail_missing']]\n",
    "\n",
    "    n_repetitions = 5000\n",
    "    diff_means = []\n",
    "\n",
    "    for _ in range(n_repetitions):\n",
    "\n",
    "        # Shuffling the data and assigning it back to the DataFrame\n",
    "        shuffled[column] = np.random.permutation(shuffled[column])\n",
    "        \n",
    "        # Computing and storing the absolute difference in means\n",
    "        diff_mean = shuffled.groupby('cause_detail_missing')[column].mean().diff().abs().iloc[-1]\n",
    "        diff_means.append(diff_mean)\n",
    "        \n",
    "    return diff_means"
   ]
  },
  {
   "cell_type": "code",
   "execution_count": 43,
   "metadata": {},
   "outputs": [
    {
     "data": {
      "text/plain": [
       "{'ANOMALY.LEVEL': 0.7388, 'TOTAL.PRICE': 0.0046, 'TOTAL.SALES': 0.0006}"
      ]
     },
     "execution_count": 43,
     "metadata": {},
     "output_type": "execute_result"
    }
   ],
   "source": [
    "# perform permutation tests on all the column mentioned above.\n",
    "# use difference in mean as test statistic\n",
    "p_values = {}\n",
    "for column in other_columns:\n",
    "    # for each column, first find the observed test statistic than perform permutation test on them\n",
    "    obs = assert_missingness.groupby('cause_detail_missing')[column].mean().diff().abs().iloc[-1]\n",
    "    diff_means = permutation_miss(column, assert_missingness)\n",
    "    p_values[column] = np.mean(diff_means >= obs)\n",
    "p_values"
   ]
  },
  {
   "cell_type": "markdown",
   "metadata": {},
   "source": [
    "As shown in the p-values above, the p-values for column 'TOTAL.PRICE' and 'TOTAL.SALES' is 0.0046 and 0.0006 respectively and are all less than the threshold of 0.05, indicating that the mssingness in our target column also depends on columns of <code>'TOTAL.PRICE' and 'TOTAL.SALES'</code>.\n",
    "\n",
    "On the other hand, the p-value for column <code>'ANOMALY.LEVEL'</code> is 0.74, which is greater then 0.05 threshold. We thus fail to reject our null and claim that the missinness in column CAUSE.CATEGORY.DETAIL does NOT depend on column ANOMALY.LEVEL. Below is a visual representation of our simulation. "
   ]
  },
  {
   "cell_type": "code",
   "execution_count": 11,
   "metadata": {},
   "outputs": [
    {
     "data": {
      "text/plain": [
       "cause_detail_missing\n",
       "False    AxesSubplot(0.125,0.125;0.775x0.755)\n",
       "True     AxesSubplot(0.125,0.125;0.775x0.755)\n",
       "Name: ANOMALY.LEVEL, dtype: object"
      ]
     },
     "execution_count": 11,
     "metadata": {},
     "output_type": "execute_result"
    },
    {
     "data": {
      "image/png": "[encoded data removed]",
      "text/plain": [
       "<Figure size 432x288 with 1 Axes>"
      ]
     },
     "metadata": {
      "image/png": {
       "height": 248,
       "width": 385
      },
      "needs_background": "light"
     },
     "output_type": "display_data"
    }
   ],
   "source": [
    "# plot out the two distribution\n",
    "assert_missingness.groupby('cause_detail_missing')['ANOMALY.LEVEL'].plot(kind='kde', legend=True)"
   ]
  },
  {
   "cell_type": "code",
   "execution_count": 44,
   "metadata": {},
   "outputs": [
    {
     "data": {
      "image/png": "[encoded data removed]",
      "text/plain": [
       "<Figure size 432x288 with 1 Axes>"
      ]
     },
     "metadata": {
      "image/png": {
       "height": 263,
       "width": 382
      },
      "needs_background": "light"
     },
     "output_type": "display_data"
    }
   ],
   "source": [
    "# find the observed test statistic\n",
    "obs = assert_missingness.groupby('cause_detail_missing')['ANOMALY.LEVEL'].mean().diff().abs().iloc[-1]\n",
    "# permutation test on column \"ANOMALY.LEVEL\"\n",
    "n_repetitions = 5000\n",
    "shuffled = assert_missingness.copy()[['cause_detail_missing', 'ANOMALY.LEVEL']]\n",
    "\n",
    "diff_means = []\n",
    "for _ in range(n_repetitions):\n",
    "    \n",
    "    # Shuffling the data and assigning it back to the DataFrame\n",
    "    shuffled['ANOMALY.LEVEL'] = np.random.permutation(shuffled['ANOMALY.LEVEL'])\n",
    "    \n",
    "    # Computing and storing the absolute difference in means\n",
    "    diff_mean = shuffled.groupby('cause_detail_missing')['ANOMALY.LEVEL'].mean().diff().abs().iloc[-1]\n",
    "    diff_means.append(diff_mean)\n",
    "# compute p-value and plot out the result\n",
    "pval = np.mean(np.array(diff_means) >= obs)\n",
    "\n",
    "pd.Series(diff_means).plot(kind='hist', density=True, ec='w', bins=20, title=f'p-value: {pval}', label='Simulated Absolute Differences in Means')\n",
    "plt.axvline(obs, color='red', label='Observed Difference in Means')\n",
    "plt.legend();"
   ]
  },
  {
   "cell_type": "markdown",
   "metadata": {},
   "source": [
    "In general, we found that the missinness in column </code>CAUSE.CATEGORY.DETAIL</code> depends on the columns of <code>CAUSE.CATEGORY, 'TOTAL.PRICE' and 'TOTAL.SALES</code> yet does not depend on columns <code>ANOMALY.LEVEL</code>."
   ]
  },
  {
   "cell_type": "markdown",
   "metadata": {},
   "source": [
    "### Hypothesis Test"
   ]
  },
  {
   "cell_type": "markdown",
   "metadata": {
    "ExecuteTime": {
     "end_time": "2019-10-31T23:36:28.666489Z",
     "start_time": "2019-10-31T23:36:28.664381Z"
    }
   },
   "source": [
    "H1: Severe outage caused by winds leads to longer duration of power outage\n",
    "\n",
    "we consider the following natural disaster as severe weather condition that caused by wind: heavy wind, hurricanes, tornadoes, wind storm, wind, wind/rain, and storm. The rest weather condition some how involve wind but we chose not to include them because the main cause of those power outage does not involve wind. "
   ]
  },
  {
   "cell_type": "markdown",
   "metadata": {},
   "source": [
    "### Conclusion"
   ]
  },
  {
   "cell_type": "markdown",
   "metadata": {},
   "source": [
    "One thing that could improve our analysis is instead of droping the rows with values in the <code>CAUSE.CATEGORY.DETAIL</code> being missing, we could fill in the nan values in that columns with plausable data.  \n",
    "This could make our analysis less bias as we already found that the missingness in the <code>CAUSE.CATEGORY.DETAIL</code> column is MAR such that ignoring the rows with missing values would lead to a biased result."
   ]
  },
  {
   "cell_type": "code",
   "execution_count": null,
   "metadata": {},
   "outputs": [],
   "source": []
  }
 ],
 "metadata": {
  "kernelspec": {
   "display_name": "Python 3 (ipykernel)",
   "language": "python",
   "name": "python3"
  },
  "language_info": {
   "codemirror_mode": {
    "name": "ipython",
    "version": 3
   },
   "file_extension": ".py",
   "mimetype": "text/x-python",
   "name": "python",
   "nbconvert_exporter": "python",
   "pygments_lexer": "ipython3",
   "version": "3.9.12"
  }
 },
 "nbformat": 4,
 "nbformat_minor": 2
}
